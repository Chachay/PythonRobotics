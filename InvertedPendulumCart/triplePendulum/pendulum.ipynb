{
 "nbformat": 4,
 "nbformat_minor": 2,
 "metadata": {
  "language_info": {
   "name": "python",
   "codemirror_mode": {
    "name": "ipython",
    "version": 3
   },
   "version": "3.6.8-final"
  },
  "orig_nbformat": 2,
  "file_extension": ".py",
  "mimetype": "text/x-python",
  "name": "python",
  "npconvert_exporter": "python",
  "pygments_lexer": "ipython3",
  "version": 3,
  "kernelspec": {
   "name": "python36864bit02660a26c7e04cbba91a433884a017aa",
   "display_name": "Python 3.6.8 64-bit"
  }
 },
 "cells": [
  {
   "cell_type": "code",
   "execution_count": 1,
   "metadata": {},
   "outputs": [],
   "source": [
    "from sympy.physics.mechanics import *\n",
    "from sympy import symbols, atan, cos, Matrix"
   ]
  },
  {
   "cell_type": "code",
   "execution_count": 2,
   "metadata": {},
   "outputs": [],
   "source": [
    "q1, q2 = dynamicsymbols('q1:3')\n",
    "q1d, q2d = dynamicsymbols('q1:3', level=1)\n",
    "l1, l2, m1, m2, g, t = symbols('l1, l2, m1, m2, g, t')"
   ]
  },
  {
   "cell_type": "code",
   "execution_count": 3,
   "metadata": {},
   "outputs": [],
   "source": [
    "# Compose World Frame\n",
    "N = ReferenceFrame('N')\n",
    "A = N.orientnew('A', 'axis', [q1, N.z])\n",
    "B = N.orientnew('B', 'axis', [q2, N.z])\n",
    "\n",
    "A.set_ang_vel(N, q1d * N.z)\n",
    "B.set_ang_vel(N, q2d * N.z)"
   ]
  },
  {
   "cell_type": "code",
   "execution_count": 4,
   "metadata": {},
   "outputs": [],
   "source": [
    "O = Point('O')\n",
    "P = O.locatenew('P', l1 * A.x)\n",
    "R = P.locatenew('R', l2 * B.x)"
   ]
  },
  {
   "cell_type": "code",
   "execution_count": 5,
   "metadata": {},
   "outputs": [
    {
     "data": {
      "text/latex": "$\\displaystyle l_{1} \\dot{q}_{1}\\mathbf{\\hat{a}_y} + l_{2} \\dot{q}_{2}\\mathbf{\\hat{b}_y}$",
      "text/plain": "l1*q1'*A.y + l2*q2'*B.y"
     },
     "execution_count": 5,
     "metadata": {},
     "output_type": "execute_result"
    }
   ],
   "source": [
    "O.set_vel(N, 0)\n",
    "P.v2pt_theory(O, N, A)\n",
    "R.v2pt_theory(P, N, B)"
   ]
  },
  {
   "cell_type": "code",
   "execution_count": 6,
   "metadata": {},
   "outputs": [],
   "source": [
    "ParP = Particle('ParP', P, m1)\n",
    "ParR = Particle('ParR', R, m2)"
   ]
  },
  {
   "cell_type": "code",
   "execution_count": 7,
   "metadata": {},
   "outputs": [],
   "source": [
    "FL = [(P, m1 * g * N.x), (R, m2 * g * N.x)]"
   ]
  },
  {
   "cell_type": "code",
   "execution_count": 8,
   "metadata": {},
   "outputs": [],
   "source": [
    "# Calculate the lagrangian, and form the equations of motion\n",
    "Lag = Lagrangian(N, ParP, ParR)\n",
    "LM = LagrangesMethod(Lag, [q1, q2], forcelist=FL, frame=N)\n",
    "lag_eqs = LM.form_lagranges_equations()"
   ]
  },
  {
   "cell_type": "code",
   "execution_count": 9,
   "metadata": {},
   "outputs": [
    {
     "data": {
      "text/latex": "$\\displaystyle \\left[\\begin{matrix}g l_{1} m_{1} \\sin{\\left(\\operatorname{q_{1}}{\\left(t \\right)} \\right)} + g l_{1} m_{2} \\sin{\\left(\\operatorname{q_{1}}{\\left(t \\right)} \\right)} + l_{1}^{2} m_{1} \\frac{d^{2}}{d t^{2}} \\operatorname{q_{1}}{\\left(t \\right)} + l_{1}^{2} m_{2} \\frac{d^{2}}{d t^{2}} \\operatorname{q_{1}}{\\left(t \\right)} + l_{1} l_{2} m_{2} \\left(\\sin{\\left(\\operatorname{q_{1}}{\\left(t \\right)} \\right)} \\sin{\\left(\\operatorname{q_{2}}{\\left(t \\right)} \\right)} + \\cos{\\left(\\operatorname{q_{1}}{\\left(t \\right)} \\right)} \\cos{\\left(\\operatorname{q_{2}}{\\left(t \\right)} \\right)}\\right) \\frac{d^{2}}{d t^{2}} \\operatorname{q_{2}}{\\left(t \\right)} - l_{1} l_{2} m_{2} \\left(- \\sin{\\left(\\operatorname{q_{1}}{\\left(t \\right)} \\right)} \\cos{\\left(\\operatorname{q_{2}}{\\left(t \\right)} \\right)} + \\sin{\\left(\\operatorname{q_{2}}{\\left(t \\right)} \\right)} \\cos{\\left(\\operatorname{q_{1}}{\\left(t \\right)} \\right)}\\right) \\frac{d}{d t} \\operatorname{q_{1}}{\\left(t \\right)} \\frac{d}{d t} \\operatorname{q_{2}}{\\left(t \\right)} + l_{1} l_{2} m_{2} \\left(- \\sin{\\left(\\operatorname{q_{1}}{\\left(t \\right)} \\right)} \\cos{\\left(\\operatorname{q_{2}}{\\left(t \\right)} \\right)} \\frac{d}{d t} \\operatorname{q_{1}}{\\left(t \\right)} + \\sin{\\left(\\operatorname{q_{1}}{\\left(t \\right)} \\right)} \\cos{\\left(\\operatorname{q_{2}}{\\left(t \\right)} \\right)} \\frac{d}{d t} \\operatorname{q_{2}}{\\left(t \\right)} + \\sin{\\left(\\operatorname{q_{2}}{\\left(t \\right)} \\right)} \\cos{\\left(\\operatorname{q_{1}}{\\left(t \\right)} \\right)} \\frac{d}{d t} \\operatorname{q_{1}}{\\left(t \\right)} - \\sin{\\left(\\operatorname{q_{2}}{\\left(t \\right)} \\right)} \\cos{\\left(\\operatorname{q_{1}}{\\left(t \\right)} \\right)} \\frac{d}{d t} \\operatorname{q_{2}}{\\left(t \\right)}\\right) \\frac{d}{d t} \\operatorname{q_{2}}{\\left(t \\right)}\\\\g l_{2} m_{2} \\sin{\\left(\\operatorname{q_{2}}{\\left(t \\right)} \\right)} + l_{1} l_{2} m_{2} \\left(\\sin{\\left(\\operatorname{q_{1}}{\\left(t \\right)} \\right)} \\sin{\\left(\\operatorname{q_{2}}{\\left(t \\right)} \\right)} + \\cos{\\left(\\operatorname{q_{1}}{\\left(t \\right)} \\right)} \\cos{\\left(\\operatorname{q_{2}}{\\left(t \\right)} \\right)}\\right) \\frac{d^{2}}{d t^{2}} \\operatorname{q_{1}}{\\left(t \\right)} - l_{1} l_{2} m_{2} \\left(\\sin{\\left(\\operatorname{q_{1}}{\\left(t \\right)} \\right)} \\cos{\\left(\\operatorname{q_{2}}{\\left(t \\right)} \\right)} - \\sin{\\left(\\operatorname{q_{2}}{\\left(t \\right)} \\right)} \\cos{\\left(\\operatorname{q_{1}}{\\left(t \\right)} \\right)}\\right) \\frac{d}{d t} \\operatorname{q_{1}}{\\left(t \\right)} \\frac{d}{d t} \\operatorname{q_{2}}{\\left(t \\right)} + l_{1} l_{2} m_{2} \\left(- \\sin{\\left(\\operatorname{q_{1}}{\\left(t \\right)} \\right)} \\cos{\\left(\\operatorname{q_{2}}{\\left(t \\right)} \\right)} \\frac{d}{d t} \\operatorname{q_{1}}{\\left(t \\right)} + \\sin{\\left(\\operatorname{q_{1}}{\\left(t \\right)} \\right)} \\cos{\\left(\\operatorname{q_{2}}{\\left(t \\right)} \\right)} \\frac{d}{d t} \\operatorname{q_{2}}{\\left(t \\right)} + \\sin{\\left(\\operatorname{q_{2}}{\\left(t \\right)} \\right)} \\cos{\\left(\\operatorname{q_{1}}{\\left(t \\right)} \\right)} \\frac{d}{d t} \\operatorname{q_{1}}{\\left(t \\right)} - \\sin{\\left(\\operatorname{q_{2}}{\\left(t \\right)} \\right)} \\cos{\\left(\\operatorname{q_{1}}{\\left(t \\right)} \\right)} \\frac{d}{d t} \\operatorname{q_{2}}{\\left(t \\right)}\\right) \\frac{d}{d t} \\operatorname{q_{1}}{\\left(t \\right)} + l_{2}^{2} m_{2} \\frac{d^{2}}{d t^{2}} \\operatorname{q_{2}}{\\left(t \\right)}\\end{matrix}\\right]$",
      "text/plain": "Matrix([\n[g*l1*m1*sin(q1(t)) + g*l1*m2*sin(q1(t)) + l1**2*m1*Derivative(q1(t), (t, 2)) + l1**2*m2*Derivative(q1(t), (t, 2)) + l1*l2*m2*(sin(q1(t))*sin(q2(t)) + cos(q1(t))*cos(q2(t)))*Derivative(q2(t), (t, 2)) - l1*l2*m2*(-sin(q1(t))*cos(q2(t)) + sin(q2(t))*cos(q1(t)))*Derivative(q1(t), t)*Derivative(q2(t), t) + l1*l2*m2*(-sin(q1(t))*cos(q2(t))*Derivative(q1(t), t) + sin(q1(t))*cos(q2(t))*Derivative(q2(t), t) + sin(q2(t))*cos(q1(t))*Derivative(q1(t), t) - sin(q2(t))*cos(q1(t))*Derivative(q2(t), t))*Derivative(q2(t), t)],\n[                                                           g*l2*m2*sin(q2(t)) + l1*l2*m2*(sin(q1(t))*sin(q2(t)) + cos(q1(t))*cos(q2(t)))*Derivative(q1(t), (t, 2)) - l1*l2*m2*(sin(q1(t))*cos(q2(t)) - sin(q2(t))*cos(q1(t)))*Derivative(q1(t), t)*Derivative(q2(t), t) + l1*l2*m2*(-sin(q1(t))*cos(q2(t))*Derivative(q1(t), t) + sin(q1(t))*cos(q2(t))*Derivative(q2(t), t) + sin(q2(t))*cos(q1(t))*Derivative(q1(t), t) - sin(q2(t))*cos(q1(t))*Derivative(q2(t), t))*Derivative(q1(t), t) + l2**2*m2*Derivative(q2(t), (t, 2))]])"
     },
     "execution_count": 9,
     "metadata": {},
     "output_type": "execute_result"
    }
   ],
   "source": [
    "lag_eqs"
   ]
  },
  {
   "cell_type": "code",
   "execution_count": 10,
   "metadata": {},
   "outputs": [],
   "source": [
    "lag_eqs.simplify()"
   ]
  },
  {
   "cell_type": "code",
   "execution_count": 11,
   "metadata": {},
   "outputs": [
    {
     "data": {
      "text/latex": "$\\displaystyle \\left[\\begin{matrix}l_{1} \\left(g m_{1} \\sin{\\left(\\operatorname{q_{1}}{\\left(t \\right)} \\right)} + g m_{2} \\sin{\\left(\\operatorname{q_{1}}{\\left(t \\right)} \\right)} + l_{1} m_{1} \\frac{d^{2}}{d t^{2}} \\operatorname{q_{1}}{\\left(t \\right)} + l_{1} m_{2} \\frac{d^{2}}{d t^{2}} \\operatorname{q_{1}}{\\left(t \\right)} + l_{2} m_{2} \\sin{\\left(\\operatorname{q_{1}}{\\left(t \\right)} - \\operatorname{q_{2}}{\\left(t \\right)} \\right)} \\left(\\frac{d}{d t} \\operatorname{q_{2}}{\\left(t \\right)}\\right)^{2} + l_{2} m_{2} \\cos{\\left(\\operatorname{q_{1}}{\\left(t \\right)} - \\operatorname{q_{2}}{\\left(t \\right)} \\right)} \\frac{d^{2}}{d t^{2}} \\operatorname{q_{2}}{\\left(t \\right)}\\right)\\\\l_{2} m_{2} \\left(g \\sin{\\left(\\operatorname{q_{2}}{\\left(t \\right)} \\right)} - l_{1} \\sin{\\left(\\operatorname{q_{1}}{\\left(t \\right)} - \\operatorname{q_{2}}{\\left(t \\right)} \\right)} \\left(\\frac{d}{d t} \\operatorname{q_{1}}{\\left(t \\right)}\\right)^{2} + l_{1} \\cos{\\left(\\operatorname{q_{1}}{\\left(t \\right)} - \\operatorname{q_{2}}{\\left(t \\right)} \\right)} \\frac{d^{2}}{d t^{2}} \\operatorname{q_{1}}{\\left(t \\right)} + l_{2} \\frac{d^{2}}{d t^{2}} \\operatorname{q_{2}}{\\left(t \\right)}\\right)\\end{matrix}\\right]$",
      "text/plain": "Matrix([\n[l1*(g*m1*sin(q1(t)) + g*m2*sin(q1(t)) + l1*m1*Derivative(q1(t), (t, 2)) + l1*m2*Derivative(q1(t), (t, 2)) + l2*m2*sin(q1(t) - q2(t))*Derivative(q2(t), t)**2 + l2*m2*cos(q1(t) - q2(t))*Derivative(q2(t), (t, 2)))],\n[                                                             l2*m2*(g*sin(q2(t)) - l1*sin(q1(t) - q2(t))*Derivative(q1(t), t)**2 + l1*cos(q1(t) - q2(t))*Derivative(q1(t), (t, 2)) + l2*Derivative(q2(t), (t, 2)))]])"
     },
     "execution_count": 11,
     "metadata": {},
     "output_type": "execute_result"
    }
   ],
   "source": [
    "lag_eqs"
   ]
  },
  {
   "cell_type": "code",
   "execution_count": null,
   "metadata": {},
   "outputs": [],
   "source": []
  }
 ]
}