{
 "nbformat": 4,
 "nbformat_minor": 2,
 "metadata": {
  "language_info": {
   "name": "python",
   "codemirror_mode": {
    "name": "ipython",
    "version": 3
   },
   "version": "3.6.8-final"
  },
  "orig_nbformat": 2,
  "file_extension": ".py",
  "mimetype": "text/x-python",
  "name": "python",
  "npconvert_exporter": "python",
  "pygments_lexer": "ipython3",
  "version": 3,
  "kernelspec": {
   "name": "python36864bit02660a26c7e04cbba91a433884a017aa",
   "display_name": "Python 3.6.8 64-bit"
  }
 },
 "cells": [
  {
   "cell_type": "code",
   "execution_count": 1,
   "metadata": {},
   "outputs": [],
   "source": [
    "from sympy.physics.mechanics import *\n",
    "from sympy import symbols, atan, cos, Matrix"
   ]
  },
  {
   "cell_type": "code",
   "execution_count": 4,
   "metadata": {},
   "outputs": [],
   "source": [
    "q = dynamicsymbols('q:2')\n",
    "qd = dynamicsymbols('q:2', level=1)\n",
    "l = symbols('l:2')\n",
    "m = symbols('m:2')\n",
    "g, t = symbols('g, t')"
   ]
  },
  {
   "cell_type": "code",
   "execution_count": 6,
   "metadata": {},
   "outputs": [],
   "source": [
    "# Compose World Frame\n",
    "N = ReferenceFrame('N')\n",
    "A = N.orientnew('A', 'axis', [q[0], N.z])\n",
    "B = N.orientnew('B', 'axis', [q[1], N.z])\n",
    "\n",
    "A.set_ang_vel(N, qd[0] * N.z)\n",
    "B.set_ang_vel(N, qd[1] * N.z)"
   ]
  },
  {
   "cell_type": "code",
   "execution_count": 7,
   "metadata": {},
   "outputs": [],
   "source": [
    "O = Point('O')\n",
    "P = O.locatenew('P', l[0] * A.x)\n",
    "R = P.locatenew('R', l[1] * B.x)"
   ]
  },
  {
   "cell_type": "code",
   "execution_count": 8,
   "metadata": {},
   "outputs": [
    {
     "data": {
      "text/latex": "$\\displaystyle l_{0} \\dot{q}_{0}\\mathbf{\\hat{a}_y} + l_{1} \\dot{q}_{1}\\mathbf{\\hat{b}_y}$",
      "text/plain": "l0*q0'*A.y + l1*q1'*B.y"
     },
     "execution_count": 8,
     "metadata": {},
     "output_type": "execute_result"
    }
   ],
   "source": [
    "O.set_vel(N, 0)\n",
    "P.v2pt_theory(O, N, A)\n",
    "R.v2pt_theory(P, N, B)"
   ]
  },
  {
   "cell_type": "code",
   "execution_count": 9,
   "metadata": {},
   "outputs": [],
   "source": [
    "ParP = Particle('ParP', P, m[0])\n",
    "ParR = Particle('ParR', R, m[1])"
   ]
  },
  {
   "cell_type": "code",
   "execution_count": 10,
   "metadata": {},
   "outputs": [],
   "source": [
    "FL = [(P, m[0] * g * N.x), (R, m[1] * g * N.x)]"
   ]
  },
  {
   "cell_type": "code",
   "execution_count": 11,
   "metadata": {},
   "outputs": [],
   "source": [
    "# Calculate the lagrangian, and form the equations of motion\n",
    "Lag = Lagrangian(N, ParP, ParR)\n",
    "LM = LagrangesMethod(Lag, q, forcelist=FL, frame=N)\n",
    "lag_eqs = LM.form_lagranges_equations()"
   ]
  },
  {
   "cell_type": "code",
   "execution_count": 12,
   "metadata": {},
   "outputs": [
    {
     "data": {
      "text/latex": "$\\displaystyle \\left[\\begin{matrix}g l_{0} m_{0} \\sin{\\left(\\operatorname{q_{0}}{\\left(t \\right)} \\right)} + g l_{0} m_{1} \\sin{\\left(\\operatorname{q_{0}}{\\left(t \\right)} \\right)} + l_{0}^{2} m_{0} \\frac{d^{2}}{d t^{2}} \\operatorname{q_{0}}{\\left(t \\right)} + l_{0}^{2} m_{1} \\frac{d^{2}}{d t^{2}} \\operatorname{q_{0}}{\\left(t \\right)} + l_{0} l_{1} m_{1} \\left(\\sin{\\left(\\operatorname{q_{0}}{\\left(t \\right)} \\right)} \\sin{\\left(\\operatorname{q_{1}}{\\left(t \\right)} \\right)} + \\cos{\\left(\\operatorname{q_{0}}{\\left(t \\right)} \\right)} \\cos{\\left(\\operatorname{q_{1}}{\\left(t \\right)} \\right)}\\right) \\frac{d^{2}}{d t^{2}} \\operatorname{q_{1}}{\\left(t \\right)} - l_{0} l_{1} m_{1} \\left(- \\sin{\\left(\\operatorname{q_{0}}{\\left(t \\right)} \\right)} \\cos{\\left(\\operatorname{q_{1}}{\\left(t \\right)} \\right)} + \\sin{\\left(\\operatorname{q_{1}}{\\left(t \\right)} \\right)} \\cos{\\left(\\operatorname{q_{0}}{\\left(t \\right)} \\right)}\\right) \\frac{d}{d t} \\operatorname{q_{0}}{\\left(t \\right)} \\frac{d}{d t} \\operatorname{q_{1}}{\\left(t \\right)} + l_{0} l_{1} m_{1} \\left(- \\sin{\\left(\\operatorname{q_{0}}{\\left(t \\right)} \\right)} \\cos{\\left(\\operatorname{q_{1}}{\\left(t \\right)} \\right)} \\frac{d}{d t} \\operatorname{q_{0}}{\\left(t \\right)} + \\sin{\\left(\\operatorname{q_{0}}{\\left(t \\right)} \\right)} \\cos{\\left(\\operatorname{q_{1}}{\\left(t \\right)} \\right)} \\frac{d}{d t} \\operatorname{q_{1}}{\\left(t \\right)} + \\sin{\\left(\\operatorname{q_{1}}{\\left(t \\right)} \\right)} \\cos{\\left(\\operatorname{q_{0}}{\\left(t \\right)} \\right)} \\frac{d}{d t} \\operatorname{q_{0}}{\\left(t \\right)} - \\sin{\\left(\\operatorname{q_{1}}{\\left(t \\right)} \\right)} \\cos{\\left(\\operatorname{q_{0}}{\\left(t \\right)} \\right)} \\frac{d}{d t} \\operatorname{q_{1}}{\\left(t \\right)}\\right) \\frac{d}{d t} \\operatorname{q_{1}}{\\left(t \\right)}\\\\g l_{1} m_{1} \\sin{\\left(\\operatorname{q_{1}}{\\left(t \\right)} \\right)} + l_{0} l_{1} m_{1} \\left(\\sin{\\left(\\operatorname{q_{0}}{\\left(t \\right)} \\right)} \\sin{\\left(\\operatorname{q_{1}}{\\left(t \\right)} \\right)} + \\cos{\\left(\\operatorname{q_{0}}{\\left(t \\right)} \\right)} \\cos{\\left(\\operatorname{q_{1}}{\\left(t \\right)} \\right)}\\right) \\frac{d^{2}}{d t^{2}} \\operatorname{q_{0}}{\\left(t \\right)} - l_{0} l_{1} m_{1} \\left(\\sin{\\left(\\operatorname{q_{0}}{\\left(t \\right)} \\right)} \\cos{\\left(\\operatorname{q_{1}}{\\left(t \\right)} \\right)} - \\sin{\\left(\\operatorname{q_{1}}{\\left(t \\right)} \\right)} \\cos{\\left(\\operatorname{q_{0}}{\\left(t \\right)} \\right)}\\right) \\frac{d}{d t} \\operatorname{q_{0}}{\\left(t \\right)} \\frac{d}{d t} \\operatorname{q_{1}}{\\left(t \\right)} + l_{0} l_{1} m_{1} \\left(- \\sin{\\left(\\operatorname{q_{0}}{\\left(t \\right)} \\right)} \\cos{\\left(\\operatorname{q_{1}}{\\left(t \\right)} \\right)} \\frac{d}{d t} \\operatorname{q_{0}}{\\left(t \\right)} + \\sin{\\left(\\operatorname{q_{0}}{\\left(t \\right)} \\right)} \\cos{\\left(\\operatorname{q_{1}}{\\left(t \\right)} \\right)} \\frac{d}{d t} \\operatorname{q_{1}}{\\left(t \\right)} + \\sin{\\left(\\operatorname{q_{1}}{\\left(t \\right)} \\right)} \\cos{\\left(\\operatorname{q_{0}}{\\left(t \\right)} \\right)} \\frac{d}{d t} \\operatorname{q_{0}}{\\left(t \\right)} - \\sin{\\left(\\operatorname{q_{1}}{\\left(t \\right)} \\right)} \\cos{\\left(\\operatorname{q_{0}}{\\left(t \\right)} \\right)} \\frac{d}{d t} \\operatorname{q_{1}}{\\left(t \\right)}\\right) \\frac{d}{d t} \\operatorname{q_{0}}{\\left(t \\right)} + l_{1}^{2} m_{1} \\frac{d^{2}}{d t^{2}} \\operatorname{q_{1}}{\\left(t \\right)}\\end{matrix}\\right]$",
      "text/plain": "Matrix([\n[g*l0*m0*sin(q0(t)) + g*l0*m1*sin(q0(t)) + l0**2*m0*Derivative(q0(t), (t, 2)) + l0**2*m1*Derivative(q0(t), (t, 2)) + l0*l1*m1*(sin(q0(t))*sin(q1(t)) + cos(q0(t))*cos(q1(t)))*Derivative(q1(t), (t, 2)) - l0*l1*m1*(-sin(q0(t))*cos(q1(t)) + sin(q1(t))*cos(q0(t)))*Derivative(q0(t), t)*Derivative(q1(t), t) + l0*l1*m1*(-sin(q0(t))*cos(q1(t))*Derivative(q0(t), t) + sin(q0(t))*cos(q1(t))*Derivative(q1(t), t) + sin(q1(t))*cos(q0(t))*Derivative(q0(t), t) - sin(q1(t))*cos(q0(t))*Derivative(q1(t), t))*Derivative(q1(t), t)],\n[                                                           g*l1*m1*sin(q1(t)) + l0*l1*m1*(sin(q0(t))*sin(q1(t)) + cos(q0(t))*cos(q1(t)))*Derivative(q0(t), (t, 2)) - l0*l1*m1*(sin(q0(t))*cos(q1(t)) - sin(q1(t))*cos(q0(t)))*Derivative(q0(t), t)*Derivative(q1(t), t) + l0*l1*m1*(-sin(q0(t))*cos(q1(t))*Derivative(q0(t), t) + sin(q0(t))*cos(q1(t))*Derivative(q1(t), t) + sin(q1(t))*cos(q0(t))*Derivative(q0(t), t) - sin(q1(t))*cos(q0(t))*Derivative(q1(t), t))*Derivative(q0(t), t) + l1**2*m1*Derivative(q1(t), (t, 2))]])"
     },
     "execution_count": 12,
     "metadata": {},
     "output_type": "execute_result"
    }
   ],
   "source": [
    "lag_eqs"
   ]
  },
  {
   "cell_type": "code",
   "execution_count": 13,
   "metadata": {},
   "outputs": [],
   "source": [
    "lag_eqs.simplify()"
   ]
  },
  {
   "cell_type": "code",
   "execution_count": 14,
   "metadata": {},
   "outputs": [
    {
     "data": {
      "text/latex": "$\\displaystyle \\left[\\begin{matrix}l_{0} \\left(g m_{0} \\sin{\\left(\\operatorname{q_{0}}{\\left(t \\right)} \\right)} + g m_{1} \\sin{\\left(\\operatorname{q_{0}}{\\left(t \\right)} \\right)} + l_{0} m_{0} \\frac{d^{2}}{d t^{2}} \\operatorname{q_{0}}{\\left(t \\right)} + l_{0} m_{1} \\frac{d^{2}}{d t^{2}} \\operatorname{q_{0}}{\\left(t \\right)} + l_{1} m_{1} \\sin{\\left(\\operatorname{q_{0}}{\\left(t \\right)} - \\operatorname{q_{1}}{\\left(t \\right)} \\right)} \\left(\\frac{d}{d t} \\operatorname{q_{1}}{\\left(t \\right)}\\right)^{2} + l_{1} m_{1} \\cos{\\left(\\operatorname{q_{0}}{\\left(t \\right)} - \\operatorname{q_{1}}{\\left(t \\right)} \\right)} \\frac{d^{2}}{d t^{2}} \\operatorname{q_{1}}{\\left(t \\right)}\\right)\\\\l_{1} m_{1} \\left(g \\sin{\\left(\\operatorname{q_{1}}{\\left(t \\right)} \\right)} - l_{0} \\sin{\\left(\\operatorname{q_{0}}{\\left(t \\right)} - \\operatorname{q_{1}}{\\left(t \\right)} \\right)} \\left(\\frac{d}{d t} \\operatorname{q_{0}}{\\left(t \\right)}\\right)^{2} + l_{0} \\cos{\\left(\\operatorname{q_{0}}{\\left(t \\right)} - \\operatorname{q_{1}}{\\left(t \\right)} \\right)} \\frac{d^{2}}{d t^{2}} \\operatorname{q_{0}}{\\left(t \\right)} + l_{1} \\frac{d^{2}}{d t^{2}} \\operatorname{q_{1}}{\\left(t \\right)}\\right)\\end{matrix}\\right]$",
      "text/plain": "Matrix([\n[l0*(g*m0*sin(q0(t)) + g*m1*sin(q0(t)) + l0*m0*Derivative(q0(t), (t, 2)) + l0*m1*Derivative(q0(t), (t, 2)) + l1*m1*sin(q0(t) - q1(t))*Derivative(q1(t), t)**2 + l1*m1*cos(q0(t) - q1(t))*Derivative(q1(t), (t, 2)))],\n[                                                             l1*m1*(g*sin(q1(t)) - l0*sin(q0(t) - q1(t))*Derivative(q0(t), t)**2 + l0*cos(q0(t) - q1(t))*Derivative(q0(t), (t, 2)) + l1*Derivative(q1(t), (t, 2)))]])"
     },
     "execution_count": 14,
     "metadata": {},
     "output_type": "execute_result"
    }
   ],
   "source": [
    "lag_eqs"
   ]
  },
  {
   "cell_type": "code",
   "execution_count": null,
   "metadata": {},
   "outputs": [],
   "source": []
  }
 ]
}