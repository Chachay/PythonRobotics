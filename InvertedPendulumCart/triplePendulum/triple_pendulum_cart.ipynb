{
 "nbformat": 4,
 "nbformat_minor": 2,
 "metadata": {
  "language_info": {
   "name": "python",
   "codemirror_mode": {
    "name": "ipython",
    "version": 3
   },
   "version": "3.6.8-final"
  },
  "orig_nbformat": 2,
  "file_extension": ".py",
  "mimetype": "text/x-python",
  "name": "python",
  "npconvert_exporter": "python",
  "pygments_lexer": "ipython3",
  "version": 3,
  "kernelspec": {
   "name": "python36864bit02660a26c7e04cbba91a433884a017aa",
   "display_name": "Python 3.6.8 64-bit"
  }
 },
 "cells": [
  {
   "cell_type": "code",
   "execution_count": 1,
   "metadata": {},
   "outputs": [],
   "source": [
    "from sympy.physics.mechanics import *\n",
    "from sympy import symbols, atan, cos, Matrix"
   ]
  },
  {
   "cell_type": "code",
   "execution_count": 2,
   "metadata": {},
   "outputs": [],
   "source": [
    "q = dynamicsymbols('q:4')\n",
    "qd = dynamicsymbols('q:4', level=1)\n",
    "l = symbols('l:4')\n",
    "m = symbols('m:4')\n",
    "g, t = symbols('g, t')"
   ]
  },
  {
   "cell_type": "code",
   "execution_count": 3,
   "metadata": {},
   "outputs": [],
   "source": [
    "# Compose World Frame\n",
    "N = ReferenceFrame('N')\n",
    "B = N.orientnew('B', 'axis', [q[1], N.z])\n",
    "C = N.orientnew('C', 'axis', [q[2], N.z])\n",
    "D = N.orientnew('D', 'axis', [q[3], N.z])\n",
    "\n",
    "B.set_ang_vel(N, qd[1] * N.z)\n",
    "C.set_ang_vel(N, qd[2] * N.z)\n",
    "D.set_ang_vel(N, qd[2] * N.z)"
   ]
  },
  {
   "cell_type": "code",
   "execution_count": 4,
   "metadata": {},
   "outputs": [],
   "source": [
    "O = Point('O')\n",
    "P = O.locatenew('P', l[1] * B.x)\n",
    "R = P.locatenew('R', l[2] * C.x)\n",
    "S = R.locatenew('S', l[3] * D.x)"
   ]
  },
  {
   "cell_type": "code",
   "execution_count": 5,
   "metadata": {},
   "outputs": [
    {
     "data": {
      "text/latex": "$\\displaystyle \\dot{q}_{0}\\mathbf{\\hat{n}_y} + l_{1} \\dot{q}_{1}\\mathbf{\\hat{b}_y} + l_{2} \\dot{q}_{2}\\mathbf{\\hat{c}_y} + l_{3} \\dot{q}_{2}\\mathbf{\\hat{d}_y}$",
      "text/plain": "q0'*N.y + l1*q1'*B.y + l2*q2'*C.y + l3*q2'*D.y"
     },
     "execution_count": 5,
     "metadata": {},
     "output_type": "execute_result"
    }
   ],
   "source": [
    "O.set_vel(N, qd[0]*N.y)\n",
    "P.v2pt_theory(O, N, B)\n",
    "R.v2pt_theory(P, N, C)\n",
    "S.v2pt_theory(R, N, D)"
   ]
  },
  {
   "cell_type": "code",
   "execution_count": 6,
   "metadata": {},
   "outputs": [],
   "source": [
    "ParO = Particle('ParO', O, m[0])\n",
    "ParP = Particle('ParP', P, m[1])\n",
    "ParR = Particle('ParR', R, m[2])\n",
    "ParS = Particle('ParS', S, m[3])"
   ]
  },
  {
   "cell_type": "code",
   "execution_count": 7,
   "metadata": {},
   "outputs": [],
   "source": [
    "FL = [(P, m[1] * g * N.x), (R, m[2] * g * N.x),  (S, m[3] * g * N.x)]"
   ]
  },
  {
   "cell_type": "code",
   "execution_count": 8,
   "metadata": {},
   "outputs": [],
   "source": [
    "# Calculate the lagrangian, and form the equations of motion\n",
    "Lag = Lagrangian(N, ParO, ParP, ParR, ParS)\n",
    "LM = LagrangesMethod(Lag, q, forcelist=FL, frame=N)\n",
    "lag_eqs = LM.form_lagranges_equations()"
   ]
  },
  {
   "cell_type": "code",
   "execution_count": 9,
   "metadata": {},
   "outputs": [
    {
     "data": {
      "text/latex": "$\\displaystyle \\left[\\begin{matrix}- l_{1} m_{1} \\sin{\\left(\\operatorname{q_{1}}{\\left(t \\right)} \\right)} \\left(\\frac{d}{d t} \\operatorname{q_{1}}{\\left(t \\right)}\\right)^{2} + l_{1} m_{1} \\cos{\\left(\\operatorname{q_{1}}{\\left(t \\right)} \\right)} \\frac{d^{2}}{d t^{2}} \\operatorname{q_{1}}{\\left(t \\right)} - l_{1} m_{2} \\sin{\\left(\\operatorname{q_{1}}{\\left(t \\right)} \\right)} \\left(\\frac{d}{d t} \\operatorname{q_{1}}{\\left(t \\right)}\\right)^{2} + l_{1} m_{2} \\cos{\\left(\\operatorname{q_{1}}{\\left(t \\right)} \\right)} \\frac{d^{2}}{d t^{2}} \\operatorname{q_{1}}{\\left(t \\right)} - l_{1} m_{3} \\sin{\\left(\\operatorname{q_{1}}{\\left(t \\right)} \\right)} \\left(\\frac{d}{d t} \\operatorname{q_{1}}{\\left(t \\right)}\\right)^{2} + l_{1} m_{3} \\cos{\\left(\\operatorname{q_{1}}{\\left(t \\right)} \\right)} \\frac{d^{2}}{d t^{2}} \\operatorname{q_{1}}{\\left(t \\right)} - l_{2} m_{2} \\sin{\\left(\\operatorname{q_{2}}{\\left(t \\right)} \\right)} \\left(\\frac{d}{d t} \\operatorname{q_{2}}{\\left(t \\right)}\\right)^{2} + l_{2} m_{2} \\cos{\\left(\\operatorname{q_{2}}{\\left(t \\right)} \\right)} \\frac{d^{2}}{d t^{2}} \\operatorname{q_{2}}{\\left(t \\right)} - l_{2} m_{3} \\sin{\\left(\\operatorname{q_{2}}{\\left(t \\right)} \\right)} \\left(\\frac{d}{d t} \\operatorname{q_{2}}{\\left(t \\right)}\\right)^{2} + l_{2} m_{3} \\cos{\\left(\\operatorname{q_{2}}{\\left(t \\right)} \\right)} \\frac{d^{2}}{d t^{2}} \\operatorname{q_{2}}{\\left(t \\right)} - l_{3} m_{3} \\sin{\\left(\\operatorname{q_{3}}{\\left(t \\right)} \\right)} \\frac{d}{d t} \\operatorname{q_{2}}{\\left(t \\right)} \\frac{d}{d t} \\operatorname{q_{3}}{\\left(t \\right)} + l_{3} m_{3} \\cos{\\left(\\operatorname{q_{3}}{\\left(t \\right)} \\right)} \\frac{d^{2}}{d t^{2}} \\operatorname{q_{2}}{\\left(t \\right)} + m_{0} \\frac{d^{2}}{d t^{2}} \\operatorname{q_{0}}{\\left(t \\right)} + m_{1} \\frac{d^{2}}{d t^{2}} \\operatorname{q_{0}}{\\left(t \\right)} + m_{2} \\frac{d^{2}}{d t^{2}} \\operatorname{q_{0}}{\\left(t \\right)} + m_{3} \\frac{d^{2}}{d t^{2}} \\operatorname{q_{0}}{\\left(t \\right)}\\\\l_{1} \\left(g m_{1} \\sin{\\left(\\operatorname{q_{1}}{\\left(t \\right)} \\right)} + g m_{2} \\sin{\\left(\\operatorname{q_{1}}{\\left(t \\right)} \\right)} + g m_{3} \\sin{\\left(\\operatorname{q_{1}}{\\left(t \\right)} \\right)} + l_{1} m_{1} \\frac{d^{2}}{d t^{2}} \\operatorname{q_{1}}{\\left(t \\right)} + l_{1} m_{2} \\frac{d^{2}}{d t^{2}} \\operatorname{q_{1}}{\\left(t \\right)} + l_{1} m_{3} \\frac{d^{2}}{d t^{2}} \\operatorname{q_{1}}{\\left(t \\right)} + l_{2} m_{2} \\sin{\\left(\\operatorname{q_{1}}{\\left(t \\right)} - \\operatorname{q_{2}}{\\left(t \\right)} \\right)} \\left(\\frac{d}{d t} \\operatorname{q_{2}}{\\left(t \\right)}\\right)^{2} + l_{2} m_{2} \\cos{\\left(\\operatorname{q_{1}}{\\left(t \\right)} - \\operatorname{q_{2}}{\\left(t \\right)} \\right)} \\frac{d^{2}}{d t^{2}} \\operatorname{q_{2}}{\\left(t \\right)} + l_{2} m_{3} \\sin{\\left(\\operatorname{q_{1}}{\\left(t \\right)} - \\operatorname{q_{2}}{\\left(t \\right)} \\right)} \\left(\\frac{d}{d t} \\operatorname{q_{2}}{\\left(t \\right)}\\right)^{2} + l_{2} m_{3} \\cos{\\left(\\operatorname{q_{1}}{\\left(t \\right)} - \\operatorname{q_{2}}{\\left(t \\right)} \\right)} \\frac{d^{2}}{d t^{2}} \\operatorname{q_{2}}{\\left(t \\right)} + l_{3} m_{3} \\sin{\\left(\\operatorname{q_{1}}{\\left(t \\right)} - \\operatorname{q_{3}}{\\left(t \\right)} \\right)} \\frac{d}{d t} \\operatorname{q_{2}}{\\left(t \\right)} \\frac{d}{d t} \\operatorname{q_{3}}{\\left(t \\right)} + l_{3} m_{3} \\cos{\\left(\\operatorname{q_{1}}{\\left(t \\right)} - \\operatorname{q_{3}}{\\left(t \\right)} \\right)} \\frac{d^{2}}{d t^{2}} \\operatorname{q_{2}}{\\left(t \\right)} + m_{1} \\cos{\\left(\\operatorname{q_{1}}{\\left(t \\right)} \\right)} \\frac{d^{2}}{d t^{2}} \\operatorname{q_{0}}{\\left(t \\right)} + m_{2} \\cos{\\left(\\operatorname{q_{1}}{\\left(t \\right)} \\right)} \\frac{d^{2}}{d t^{2}} \\operatorname{q_{0}}{\\left(t \\right)} + m_{3} \\cos{\\left(\\operatorname{q_{1}}{\\left(t \\right)} \\right)} \\frac{d^{2}}{d t^{2}} \\operatorname{q_{0}}{\\left(t \\right)}\\right)\\\\g l_{2} m_{2} \\sin{\\left(\\operatorname{q_{2}}{\\left(t \\right)} \\right)} + g l_{2} m_{3} \\sin{\\left(\\operatorname{q_{2}}{\\left(t \\right)} \\right)} + g l_{3} m_{3} \\sin{\\left(\\operatorname{q_{3}}{\\left(t \\right)} \\right)} - l_{1} l_{2} m_{2} \\sin{\\left(\\operatorname{q_{1}}{\\left(t \\right)} - \\operatorname{q_{2}}{\\left(t \\right)} \\right)} \\left(\\frac{d}{d t} \\operatorname{q_{1}}{\\left(t \\right)}\\right)^{2} + l_{1} l_{2} m_{2} \\cos{\\left(\\operatorname{q_{1}}{\\left(t \\right)} - \\operatorname{q_{2}}{\\left(t \\right)} \\right)} \\frac{d^{2}}{d t^{2}} \\operatorname{q_{1}}{\\left(t \\right)} - l_{1} l_{2} m_{3} \\sin{\\left(\\operatorname{q_{1}}{\\left(t \\right)} - \\operatorname{q_{2}}{\\left(t \\right)} \\right)} \\left(\\frac{d}{d t} \\operatorname{q_{1}}{\\left(t \\right)}\\right)^{2} + l_{1} l_{2} m_{3} \\cos{\\left(\\operatorname{q_{1}}{\\left(t \\right)} - \\operatorname{q_{2}}{\\left(t \\right)} \\right)} \\frac{d^{2}}{d t^{2}} \\operatorname{q_{1}}{\\left(t \\right)} - l_{1} l_{3} m_{3} \\sin{\\left(\\operatorname{q_{1}}{\\left(t \\right)} - \\operatorname{q_{3}}{\\left(t \\right)} \\right)} \\left(\\frac{d}{d t} \\operatorname{q_{1}}{\\left(t \\right)}\\right)^{2} + l_{1} l_{3} m_{3} \\sin{\\left(\\operatorname{q_{1}}{\\left(t \\right)} - \\operatorname{q_{3}}{\\left(t \\right)} \\right)} \\frac{d}{d t} \\operatorname{q_{1}}{\\left(t \\right)} \\frac{d}{d t} \\operatorname{q_{3}}{\\left(t \\right)} + l_{1} l_{3} m_{3} \\cos{\\left(\\operatorname{q_{1}}{\\left(t \\right)} - \\operatorname{q_{3}}{\\left(t \\right)} \\right)} \\frac{d^{2}}{d t^{2}} \\operatorname{q_{1}}{\\left(t \\right)} + l_{2}^{2} m_{2} \\frac{d^{2}}{d t^{2}} \\operatorname{q_{2}}{\\left(t \\right)} + l_{2}^{2} m_{3} \\frac{d^{2}}{d t^{2}} \\operatorname{q_{2}}{\\left(t \\right)} - l_{2} l_{3} m_{3} \\sin{\\left(\\operatorname{q_{2}}{\\left(t \\right)} - \\operatorname{q_{3}}{\\left(t \\right)} \\right)} \\left(\\frac{d}{d t} \\operatorname{q_{2}}{\\left(t \\right)}\\right)^{2} + 2 l_{2} l_{3} m_{3} \\sin{\\left(\\operatorname{q_{2}}{\\left(t \\right)} - \\operatorname{q_{3}}{\\left(t \\right)} \\right)} \\frac{d}{d t} \\operatorname{q_{2}}{\\left(t \\right)} \\frac{d}{d t} \\operatorname{q_{3}}{\\left(t \\right)} + 2 l_{2} l_{3} m_{3} \\cos{\\left(\\operatorname{q_{2}}{\\left(t \\right)} - \\operatorname{q_{3}}{\\left(t \\right)} \\right)} \\frac{d^{2}}{d t^{2}} \\operatorname{q_{2}}{\\left(t \\right)} + l_{2} m_{2} \\cos{\\left(\\operatorname{q_{2}}{\\left(t \\right)} \\right)} \\frac{d^{2}}{d t^{2}} \\operatorname{q_{0}}{\\left(t \\right)} + l_{2} m_{3} \\cos{\\left(\\operatorname{q_{2}}{\\left(t \\right)} \\right)} \\frac{d^{2}}{d t^{2}} \\operatorname{q_{0}}{\\left(t \\right)} + l_{3}^{2} m_{3} \\frac{d^{2}}{d t^{2}} \\operatorname{q_{2}}{\\left(t \\right)} - l_{3} m_{3} \\sin{\\left(\\operatorname{q_{3}}{\\left(t \\right)} \\right)} \\frac{d}{d t} \\operatorname{q_{0}}{\\left(t \\right)} \\frac{d}{d t} \\operatorname{q_{3}}{\\left(t \\right)} + l_{3} m_{3} \\cos{\\left(\\operatorname{q_{3}}{\\left(t \\right)} \\right)} \\frac{d^{2}}{d t^{2}} \\operatorname{q_{0}}{\\left(t \\right)}\\\\l_{3} m_{3} \\left(- l_{1} \\sin{\\left(\\operatorname{q_{1}}{\\left(t \\right)} - \\operatorname{q_{3}}{\\left(t \\right)} \\right)} \\frac{d}{d t} \\operatorname{q_{1}}{\\left(t \\right)} - l_{2} \\sin{\\left(\\operatorname{q_{2}}{\\left(t \\right)} - \\operatorname{q_{3}}{\\left(t \\right)} \\right)} \\frac{d}{d t} \\operatorname{q_{2}}{\\left(t \\right)} + \\sin{\\left(\\operatorname{q_{3}}{\\left(t \\right)} \\right)} \\frac{d}{d t} \\operatorname{q_{0}}{\\left(t \\right)}\\right) \\frac{d}{d t} \\operatorname{q_{2}}{\\left(t \\right)}\\end{matrix}\\right]$",
      "text/plain": "Matrix([\n[                                                                                                                                                                                                                                                                                               -l1*m1*sin(q1(t))*Derivative(q1(t), t)**2 + l1*m1*cos(q1(t))*Derivative(q1(t), (t, 2)) - l1*m2*sin(q1(t))*Derivative(q1(t), t)**2 + l1*m2*cos(q1(t))*Derivative(q1(t), (t, 2)) - l1*m3*sin(q1(t))*Derivative(q1(t), t)**2 + l1*m3*cos(q1(t))*Derivative(q1(t), (t, 2)) - l2*m2*sin(q2(t))*Derivative(q2(t), t)**2 + l2*m2*cos(q2(t))*Derivative(q2(t), (t, 2)) - l2*m3*sin(q2(t))*Derivative(q2(t), t)**2 + l2*m3*cos(q2(t))*Derivative(q2(t), (t, 2)) - l3*m3*sin(q3(t))*Derivative(q2(t), t)*Derivative(q3(t), t) + l3*m3*cos(q3(t))*Derivative(q2(t), (t, 2)) + m0*Derivative(q0(t), (t, 2)) + m1*Derivative(q0(t), (t, 2)) + m2*Derivative(q0(t), (t, 2)) + m3*Derivative(q0(t), (t, 2))],\n[                                                                                                                                                                                                                                                                                                                                                     l1*(g*m1*sin(q1(t)) + g*m2*sin(q1(t)) + g*m3*sin(q1(t)) + l1*m1*Derivative(q1(t), (t, 2)) + l1*m2*Derivative(q1(t), (t, 2)) + l1*m3*Derivative(q1(t), (t, 2)) + l2*m2*sin(q1(t) - q2(t))*Derivative(q2(t), t)**2 + l2*m2*cos(q1(t) - q2(t))*Derivative(q2(t), (t, 2)) + l2*m3*sin(q1(t) - q2(t))*Derivative(q2(t), t)**2 + l2*m3*cos(q1(t) - q2(t))*Derivative(q2(t), (t, 2)) + l3*m3*sin(q1(t) - q3(t))*Derivative(q2(t), t)*Derivative(q3(t), t) + l3*m3*cos(q1(t) - q3(t))*Derivative(q2(t), (t, 2)) + m1*cos(q1(t))*Derivative(q0(t), (t, 2)) + m2*cos(q1(t))*Derivative(q0(t), (t, 2)) + m3*cos(q1(t))*Derivative(q0(t), (t, 2)))],\n[g*l2*m2*sin(q2(t)) + g*l2*m3*sin(q2(t)) + g*l3*m3*sin(q3(t)) - l1*l2*m2*sin(q1(t) - q2(t))*Derivative(q1(t), t)**2 + l1*l2*m2*cos(q1(t) - q2(t))*Derivative(q1(t), (t, 2)) - l1*l2*m3*sin(q1(t) - q2(t))*Derivative(q1(t), t)**2 + l1*l2*m3*cos(q1(t) - q2(t))*Derivative(q1(t), (t, 2)) - l1*l3*m3*sin(q1(t) - q3(t))*Derivative(q1(t), t)**2 + l1*l3*m3*sin(q1(t) - q3(t))*Derivative(q1(t), t)*Derivative(q3(t), t) + l1*l3*m3*cos(q1(t) - q3(t))*Derivative(q1(t), (t, 2)) + l2**2*m2*Derivative(q2(t), (t, 2)) + l2**2*m3*Derivative(q2(t), (t, 2)) - l2*l3*m3*sin(q2(t) - q3(t))*Derivative(q2(t), t)**2 + 2*l2*l3*m3*sin(q2(t) - q3(t))*Derivative(q2(t), t)*Derivative(q3(t), t) + 2*l2*l3*m3*cos(q2(t) - q3(t))*Derivative(q2(t), (t, 2)) + l2*m2*cos(q2(t))*Derivative(q0(t), (t, 2)) + l2*m3*cos(q2(t))*Derivative(q0(t), (t, 2)) + l3**2*m3*Derivative(q2(t), (t, 2)) - l3*m3*sin(q3(t))*Derivative(q0(t), t)*Derivative(q3(t), t) + l3*m3*cos(q3(t))*Derivative(q0(t), (t, 2))],\n[                                                                                                                                                                                                                                                                                                                                                                                                                                                                                                                                                                                                                                                                                                                                                                                                                                    l3*m3*(-l1*sin(q1(t) - q3(t))*Derivative(q1(t), t) - l2*sin(q2(t) - q3(t))*Derivative(q2(t), t) + sin(q3(t))*Derivative(q0(t), t))*Derivative(q2(t), t)]])"
     },
     "execution_count": 9,
     "metadata": {},
     "output_type": "execute_result"
    }
   ],
   "source": [
    "lag_eqs.simplify()\n",
    "lag_eqs"
   ]
  },
  {
   "cell_type": "code",
   "execution_count": null,
   "metadata": {},
   "outputs": [],
   "source": []
  }
 ]
}